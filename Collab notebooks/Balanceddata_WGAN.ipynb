{
  "cells": [
    {
      "cell_type": "code",
      "execution_count": null,
      "metadata": {
        "id": "O8EVm1b057QX"
      },
      "outputs": [],
      "source": [
        "import pandas as pd\n",
        "\n",
        "\n",
        "file_path = \"/content/drive/MyDrive/Colab Notebooks/processed_fraud_data.csv\"\n",
        "\n",
        "\n",
        "df = pd.read_csv(file_path)"
      ]
    },
    {
      "cell_type": "code",
      "execution_count": null,
      "metadata": {
        "id": "vZRTHh6V6VAp"
      },
      "outputs": [],
      "source": [
        "import tensorflow as tf\n",
        "from tensorflow.keras import layers\n",
        "import pandas as pd\n",
        "import numpy as np\n",
        "from sklearn.preprocessing import MinMaxScaler"
      ]
    },
    {
      "cell_type": "code",
      "execution_count": null,
      "metadata": {
        "id": "PymHyxLb6ZYU"
      },
      "outputs": [],
      "source": [
        "fraud_data = df[df['Fraud_Label'] == 1].copy()\n",
        "fraud_data.drop(columns=['Fraud_Label'], inplace=True)"
      ]
    },
    {
      "cell_type": "code",
      "execution_count": null,
      "metadata": {
        "id": "jVs9D78v6cpr"
      },
      "outputs": [],
      "source": [
        "continuous_columns = [\n",
        "    'Transaction_Amount', 'Account_Balance', 'Avg_Transaction_Amount_7d',\n",
        "    'Transaction_Distance', 'Daily_Transaction_Count',\n",
        "    'Year', 'Month', 'Day', 'Hour', 'Minute', 'Second'\n",
        "]\n",
        "\n",
        "scaler = MinMaxScaler(feature_range=(-1, 1))\n",
        "fraud_data_cont = fraud_data[continuous_columns]\n",
        "fraud_data_cat = fraud_data.drop(columns=continuous_columns)\n",
        "\n",
        "fraud_data_cont_scaled = scaler.fit_transform(fraud_data_cont)\n",
        "fraud_data_scaled = pd.DataFrame(fraud_data_cont_scaled, columns=continuous_columns)\n",
        "fraud_data_scaled = pd.concat([fraud_data_scaled, fraud_data_cat.reset_index(drop=True)], axis=1)\n",
        "\n",
        "fraud_data_array = fraud_data_scaled.values"
      ]
    },
    {
      "cell_type": "code",
      "execution_count": null,
      "metadata": {
        "colab": {
          "base_uri": "https://localhost:8080/"
        },
        "id": "JL8ZqoYl6fq4",
        "outputId": "b0735635-5041-43d5-9e4b-81724e81e8b1"
      },
      "outputs": [
        {
          "name": "stderr",
          "output_type": "stream",
          "text": [
            "/usr/local/lib/python3.11/dist-packages/keras/src/layers/core/dense.py:87: UserWarning: Do not pass an `input_shape`/`input_dim` argument to a layer. When using Sequential models, prefer using an `Input(shape)` object as the first layer in the model instead.\n",
            "  super().__init__(activity_regularizer=activity_regularizer, **kwargs)\n"
          ]
        }
      ],
      "source": [
        "def build_generator(noise_dim, output_dim):\n",
        "    model = tf.keras.Sequential()\n",
        "    model.add(layers.Dense(256, input_dim=noise_dim, activation='relu'))\n",
        "    model.add(layers.Dense(512, activation='relu'))\n",
        "    model.add(layers.Dense(output_dim, activation='tanh'))\n",
        "    return model\n",
        "\n",
        "noise_dim = 100\n",
        "input_dim = fraud_data_array.shape[1]\n",
        "generator = build_generator(noise_dim, input_dim)"
      ]
    },
    {
      "cell_type": "code",
      "execution_count": null,
      "metadata": {
        "id": "qg3Akmxx6jgp"
      },
      "outputs": [],
      "source": [
        "def build_critic(input_dim):\n",
        "    model = tf.keras.Sequential()\n",
        "    model.add(layers.Dense(512, input_dim=input_dim, activation='relu'))\n",
        "    model.add(layers.Dense(256, activation='relu'))\n",
        "    model.add(layers.Dense(1))  \n",
        "    return model\n",
        "\n",
        "critic = build_critic(input_dim)"
      ]
    },
    {
      "cell_type": "code",
      "execution_count": null,
      "metadata": {
        "id": "9CviNBd96mtl"
      },
      "outputs": [],
      "source": [
        "optimizer_gen = tf.keras.optimizers.RMSprop(learning_rate=0.00005)\n",
        "optimizer_critic = tf.keras.optimizers.RMSprop(learning_rate=0.00005)"
      ]
    },
    {
      "cell_type": "code",
      "execution_count": null,
      "metadata": {
        "colab": {
          "base_uri": "https://localhost:8080/"
        },
        "id": "l_8_Md7n6slF",
        "outputId": "be7dc68d-be01-465f-9829-9b1f84155dd6"
      },
      "outputs": [
        {
          "name": "stdout",
          "output_type": "stream",
          "text": [
            "Epoch 0 completed\n",
            "Epoch 500 completed\n",
            "Epoch 1000 completed\n",
            "Epoch 1500 completed\n",
            "Epoch 2000 completed\n",
            "Epoch 2500 completed\n",
            "Epoch 3000 completed\n",
            "Epoch 3500 completed\n",
            "Epoch 4000 completed\n",
            "Epoch 4500 completed\n"
          ]
        }
      ],
      "source": [
        "batch_size = 256\n",
        "epochs = 5000\n",
        "clip_value = 0.01\n",
        "critic_updates = 5\n",
        "\n",
        "for epoch in range(epochs):\n",
        "    for _ in range(critic_updates):\n",
        "        idx = np.random.randint(0, fraud_data_array.shape[0], batch_size)\n",
        "        real_samples = fraud_data_array[idx]\n",
        "\n",
        "        noise = np.random.normal(0, 1, (batch_size, noise_dim))\n",
        "        generated_samples = generator.predict(noise, verbose=0)\n",
        "\n",
        "        with tf.GradientTape() as tape:\n",
        "            real_pred = critic(real_samples)\n",
        "            fake_pred = critic(generated_samples)\n",
        "            loss_critic = -(tf.reduce_mean(real_pred) - tf.reduce_mean(fake_pred))\n",
        "\n",
        "        grads = tape.gradient(loss_critic, critic.trainable_variables)\n",
        "        optimizer_critic.apply_gradients(zip(grads, critic.trainable_variables))\n",
        "\n",
        "        for layer in critic.layers:\n",
        "            weights = layer.get_weights()\n",
        "            weights = [np.clip(w, -clip_value, clip_value) for w in weights]\n",
        "            layer.set_weights(weights)\n",
        "\n",
        "    noise = np.random.normal(0, 1, (batch_size, noise_dim))\n",
        "    with tf.GradientTape() as tape:\n",
        "        generated_samples = generator(noise, training=True)\n",
        "        fake_pred = critic(generated_samples)\n",
        "        loss_gen = -tf.reduce_mean(fake_pred)\n",
        "\n",
        "    grads = tape.gradient(loss_gen, generator.trainable_variables)\n",
        "    optimizer_gen.apply_gradients(zip(grads, generator.trainable_variables))\n",
        "\n",
        "    if epoch % 500 == 0:\n",
        "        print(f\"Epoch {epoch} completed\")"
      ]
    },
    {
      "cell_type": "code",
      "execution_count": null,
      "metadata": {
        "id": "sz0ChJmGwlI1"
      },
      "outputs": [],
      "source": [
        "noise = np.random.normal(0, 1, (17000, noise_dim))\n",
        "generated_samples = generator.predict(noise, verbose=0)"
      ]
    },
    {
      "cell_type": "code",
      "execution_count": null,
      "metadata": {
        "colab": {
          "base_uri": "https://localhost:8080/",
          "height": 226
        },
        "id": "ZppkteeuwyjD",
        "outputId": "d148765f-7321-4c2b-b33f-3088fb245db9"
      },
      "outputs": [
        {
          "data": {
            "application/vnd.google.colaboratory.intrinsic+json": {
              "summary": "{\n  \"name\": \"generated_samples_df\",\n  \"rows\": 17000,\n  \"fields\": [\n    {\n      \"column\": \"Transaction_Amount\",\n      \"properties\": {\n        \"dtype\": \"float32\",\n        \"num_unique_values\": 16982,\n        \"samples\": [\n          -0.28306877613067627,\n          -0.8958297371864319,\n          -0.4688509702682495\n        ],\n        \"semantic_type\": \"\",\n        \"description\": \"\"\n      }\n    },\n    {\n      \"column\": \"Account_Balance\",\n      \"properties\": {\n        \"dtype\": \"float32\",\n        \"num_unique_values\": 16991,\n        \"samples\": [\n          0.43533608317375183,\n          0.18352630734443665,\n          0.3389301896095276\n        ],\n        \"semantic_type\": \"\",\n        \"description\": \"\"\n      }\n    },\n    {\n      \"column\": \"Avg_Transaction_Amount_7d\",\n      \"properties\": {\n        \"dtype\": \"float32\",\n        \"num_unique_values\": 16998,\n        \"samples\": [\n          0.1189693734049797,\n          -0.28284719586372375,\n          -0.022669823840260506\n        ],\n        \"semantic_type\": \"\",\n        \"description\": \"\"\n      }\n    },\n    {\n      \"column\": \"Transaction_Distance\",\n      \"properties\": {\n        \"dtype\": \"float32\",\n        \"num_unique_values\": 16996,\n        \"samples\": [\n          -0.03306124359369278,\n          -0.17420364916324615,\n          -0.4644944965839386\n        ],\n        \"semantic_type\": \"\",\n        \"description\": \"\"\n      }\n    },\n    {\n      \"column\": \"Daily_Transaction_Count\",\n      \"properties\": {\n        \"dtype\": \"float32\",\n        \"num_unique_values\": 16994,\n        \"samples\": [\n          -0.18606236577033997,\n          -0.4214964509010315,\n          -0.17947536706924438\n        ],\n        \"semantic_type\": \"\",\n        \"description\": \"\"\n      }\n    },\n    {\n      \"column\": \"Year\",\n      \"properties\": {\n        \"dtype\": \"float32\",\n        \"num_unique_values\": 16968,\n        \"samples\": [\n          -0.8504288792610168,\n          -0.9284736514091492,\n          -0.7636692523956299\n        ],\n        \"semantic_type\": \"\",\n        \"description\": \"\"\n      }\n    },\n    {\n      \"column\": \"Month\",\n      \"properties\": {\n        \"dtype\": \"float32\",\n        \"num_unique_values\": 17000,\n        \"samples\": [\n          -0.1747213900089264,\n          -0.5896704792976379,\n          0.018277691677212715\n        ],\n        \"semantic_type\": \"\",\n        \"description\": \"\"\n      }\n    },\n    {\n      \"column\": \"Day\",\n      \"properties\": {\n        \"dtype\": \"float32\",\n        \"num_unique_values\": 16996,\n        \"samples\": [\n          0.39233967661857605,\n          0.12379130721092224,\n          -0.07533299922943115\n        ],\n        \"semantic_type\": \"\",\n        \"description\": \"\"\n      }\n    },\n    {\n      \"column\": \"Hour\",\n      \"properties\": {\n        \"dtype\": \"float32\",\n        \"num_unique_values\": 16998,\n        \"samples\": [\n          0.3427444100379944,\n          -0.049875419586896896,\n          0.28502941131591797\n        ],\n        \"semantic_type\": \"\",\n        \"description\": \"\"\n      }\n    },\n    {\n      \"column\": \"Minute\",\n      \"properties\": {\n        \"dtype\": \"float32\",\n        \"num_unique_values\": 16998,\n        \"samples\": [\n          0.45215076208114624,\n          0.23345650732517242,\n          -0.33429136872291565\n        ],\n        \"semantic_type\": \"\",\n        \"description\": \"\"\n      }\n    },\n    {\n      \"column\": \"Second\",\n      \"properties\": {\n        \"dtype\": \"float32\",\n        \"num_unique_values\": 16963,\n        \"samples\": [\n          -0.753710150718689,\n          -0.9565244913101196,\n          -0.8502954840660095\n        ],\n        \"semantic_type\": \"\",\n        \"description\": \"\"\n      }\n    },\n    {\n      \"column\": \"Transaction_Type\",\n      \"properties\": {\n        \"dtype\": \"float32\",\n        \"num_unique_values\": 3804,\n        \"samples\": [\n          0.9994187355041504,\n          0.99998939037323,\n          0.9999737739562988\n        ],\n        \"semantic_type\": \"\",\n        \"description\": \"\"\n      }\n    },\n    {\n      \"column\": \"Device_Type\",\n      \"properties\": {\n        \"dtype\": \"float32\",\n        \"num_unique_values\": 16940,\n        \"samples\": [\n          0.9574693441390991,\n          0.8888174295425415,\n          0.9894284009933472\n        ],\n        \"semantic_type\": \"\",\n        \"description\": \"\"\n      }\n    },\n    {\n      \"column\": \"IP_Address_Flag\",\n      \"properties\": {\n        \"dtype\": \"float32\",\n        \"num_unique_values\": 16994,\n        \"samples\": [\n          0.019901171326637268,\n          -0.026289889588952065,\n          -0.20323728024959564\n        ],\n        \"semantic_type\": \"\",\n        \"description\": \"\"\n      }\n    },\n    {\n      \"column\": \"Previous_Fraudulent_Activity\",\n      \"properties\": {\n        \"dtype\": \"float32\",\n        \"num_unique_values\": 16992,\n        \"samples\": [\n          0.4733431339263916,\n          -0.3025084137916565,\n          -0.1194828450679779\n        ],\n        \"semantic_type\": \"\",\n        \"description\": \"\"\n      }\n    },\n    {\n      \"column\": \"Failed_Transaction_Count_7d\",\n      \"properties\": {\n        \"dtype\": \"float32\",\n        \"num_unique_values\": 3328,\n        \"samples\": [\n          0.9999695420265198,\n          0.9999088048934937,\n          0.9999126195907593\n        ],\n        \"semantic_type\": \"\",\n        \"description\": \"\"\n      }\n    },\n    {\n      \"column\": \"Card_Type\",\n      \"properties\": {\n        \"dtype\": \"float32\",\n        \"num_unique_values\": 4037,\n        \"samples\": [\n          0.9997036457061768,\n          0.9999397993087769,\n          0.9999040365219116\n        ],\n        \"semantic_type\": \"\",\n        \"description\": \"\"\n      }\n    },\n    {\n      \"column\": \"Authentication_Method\",\n      \"properties\": {\n        \"dtype\": \"float32\",\n        \"num_unique_values\": 3815,\n        \"samples\": [\n          0.999913215637207,\n          0.999843180179596,\n          0.9998624324798584\n        ],\n        \"semantic_type\": \"\",\n        \"description\": \"\"\n      }\n    },\n    {\n      \"column\": \"Is_Weekend\",\n      \"properties\": {\n        \"dtype\": \"float32\",\n        \"num_unique_values\": 16993,\n        \"samples\": [\n          -0.06288588047027588,\n          0.33668190240859985,\n          -0.6422450542449951\n        ],\n        \"semantic_type\": \"\",\n        \"description\": \"\"\n      }\n    }\n  ]\n}",
              "type": "dataframe",
              "variable_name": "generated_samples_df"
            },
            "text/html": [
              "\n",
              "  <div id=\"df-88babb1a-aa26-4b1e-a09c-fcab4acb68c5\" class=\"colab-df-container\">\n",
              "    <div>\n",
              "<style scoped>\n",
              "    .dataframe tbody tr th:only-of-type {\n",
              "        vertical-align: middle;\n",
              "    }\n",
              "\n",
              "    .dataframe tbody tr th {\n",
              "        vertical-align: top;\n",
              "    }\n",
              "\n",
              "    .dataframe thead th {\n",
              "        text-align: right;\n",
              "    }\n",
              "</style>\n",
              "<table border=\"1\" class=\"dataframe\">\n",
              "  <thead>\n",
              "    <tr style=\"text-align: right;\">\n",
              "      <th></th>\n",
              "      <th>Transaction_Amount</th>\n",
              "      <th>Account_Balance</th>\n",
              "      <th>Avg_Transaction_Amount_7d</th>\n",
              "      <th>Transaction_Distance</th>\n",
              "      <th>Daily_Transaction_Count</th>\n",
              "      <th>Year</th>\n",
              "      <th>Month</th>\n",
              "      <th>Day</th>\n",
              "      <th>Hour</th>\n",
              "      <th>Minute</th>\n",
              "      <th>Second</th>\n",
              "      <th>Transaction_Type</th>\n",
              "      <th>Device_Type</th>\n",
              "      <th>IP_Address_Flag</th>\n",
              "      <th>Previous_Fraudulent_Activity</th>\n",
              "      <th>Failed_Transaction_Count_7d</th>\n",
              "      <th>Card_Type</th>\n",
              "      <th>Authentication_Method</th>\n",
              "      <th>Is_Weekend</th>\n",
              "    </tr>\n",
              "  </thead>\n",
              "  <tbody>\n",
              "    <tr>\n",
              "      <th>0</th>\n",
              "      <td>-0.915336</td>\n",
              "      <td>-0.103862</td>\n",
              "      <td>-0.535502</td>\n",
              "      <td>-0.076594</td>\n",
              "      <td>-0.128896</td>\n",
              "      <td>-0.851492</td>\n",
              "      <td>-0.138235</td>\n",
              "      <td>0.081686</td>\n",
              "      <td>0.243008</td>\n",
              "      <td>0.028346</td>\n",
              "      <td>-0.947073</td>\n",
              "      <td>0.999996</td>\n",
              "      <td>0.934248</td>\n",
              "      <td>0.653120</td>\n",
              "      <td>0.705276</td>\n",
              "      <td>0.999998</td>\n",
              "      <td>0.999992</td>\n",
              "      <td>0.999999</td>\n",
              "      <td>0.561675</td>\n",
              "    </tr>\n",
              "    <tr>\n",
              "      <th>1</th>\n",
              "      <td>-0.885426</td>\n",
              "      <td>-0.044091</td>\n",
              "      <td>-0.346142</td>\n",
              "      <td>0.125152</td>\n",
              "      <td>0.263714</td>\n",
              "      <td>-0.894981</td>\n",
              "      <td>-0.013943</td>\n",
              "      <td>-0.227179</td>\n",
              "      <td>-0.248944</td>\n",
              "      <td>0.478384</td>\n",
              "      <td>-0.958187</td>\n",
              "      <td>0.999987</td>\n",
              "      <td>0.985405</td>\n",
              "      <td>0.266731</td>\n",
              "      <td>-0.285920</td>\n",
              "      <td>0.999995</td>\n",
              "      <td>0.999986</td>\n",
              "      <td>0.999993</td>\n",
              "      <td>0.077974</td>\n",
              "    </tr>\n",
              "    <tr>\n",
              "      <th>2</th>\n",
              "      <td>-0.567258</td>\n",
              "      <td>-0.075059</td>\n",
              "      <td>-0.185482</td>\n",
              "      <td>-0.368736</td>\n",
              "      <td>-0.333844</td>\n",
              "      <td>-0.713119</td>\n",
              "      <td>0.223762</td>\n",
              "      <td>0.463397</td>\n",
              "      <td>0.153253</td>\n",
              "      <td>0.370367</td>\n",
              "      <td>-0.677918</td>\n",
              "      <td>0.999953</td>\n",
              "      <td>0.830057</td>\n",
              "      <td>0.014997</td>\n",
              "      <td>-0.301738</td>\n",
              "      <td>0.999931</td>\n",
              "      <td>0.999945</td>\n",
              "      <td>0.999940</td>\n",
              "      <td>0.584090</td>\n",
              "    </tr>\n",
              "    <tr>\n",
              "      <th>3</th>\n",
              "      <td>-0.911197</td>\n",
              "      <td>-0.060886</td>\n",
              "      <td>0.120452</td>\n",
              "      <td>0.138476</td>\n",
              "      <td>0.269871</td>\n",
              "      <td>-0.971599</td>\n",
              "      <td>-0.512396</td>\n",
              "      <td>0.442811</td>\n",
              "      <td>0.240928</td>\n",
              "      <td>-0.490170</td>\n",
              "      <td>-0.915310</td>\n",
              "      <td>0.999962</td>\n",
              "      <td>0.972576</td>\n",
              "      <td>0.200269</td>\n",
              "      <td>0.221732</td>\n",
              "      <td>0.999967</td>\n",
              "      <td>0.999945</td>\n",
              "      <td>0.999966</td>\n",
              "      <td>0.856017</td>\n",
              "    </tr>\n",
              "    <tr>\n",
              "      <th>4</th>\n",
              "      <td>-0.871496</td>\n",
              "      <td>0.355046</td>\n",
              "      <td>0.083189</td>\n",
              "      <td>0.291527</td>\n",
              "      <td>-0.441050</td>\n",
              "      <td>-0.857925</td>\n",
              "      <td>-0.080708</td>\n",
              "      <td>0.277216</td>\n",
              "      <td>0.308595</td>\n",
              "      <td>0.484547</td>\n",
              "      <td>-0.895405</td>\n",
              "      <td>0.999975</td>\n",
              "      <td>0.958383</td>\n",
              "      <td>-0.455974</td>\n",
              "      <td>-0.474394</td>\n",
              "      <td>0.999992</td>\n",
              "      <td>0.999994</td>\n",
              "      <td>0.999976</td>\n",
              "      <td>-0.088213</td>\n",
              "    </tr>\n",
              "  </tbody>\n",
              "</table>\n",
              "</div>\n",
              "    <div class=\"colab-df-buttons\">\n",
              "\n",
              "  <div class=\"colab-df-container\">\n",
              "    <button class=\"colab-df-convert\" onclick=\"convertToInteractive('df-88babb1a-aa26-4b1e-a09c-fcab4acb68c5')\"\n",
              "            title=\"Convert this dataframe to an interactive table.\"\n",
              "            style=\"display:none;\">\n",
              "\n",
              "  <svg xmlns=\"http://www.w3.org/2000/svg\" height=\"24px\" viewBox=\"0 -960 960 960\">\n",
              "    <path d=\"M120-120v-720h720v720H120Zm60-500h600v-160H180v160Zm220 220h160v-160H400v160Zm0 220h160v-160H400v160ZM180-400h160v-160H180v160Zm440 0h160v-160H620v160ZM180-180h160v-160H180v160Zm440 0h160v-160H620v160Z\"/>\n",
              "  </svg>\n",
              "    </button>\n",
              "\n",
              "  <style>\n",
              "    .colab-df-container {\n",
              "      display:flex;\n",
              "      gap: 12px;\n",
              "    }\n",
              "\n",
              "    .colab-df-convert {\n",
              "      background-color: #E8F0FE;\n",
              "      border: none;\n",
              "      border-radius: 50%;\n",
              "      cursor: pointer;\n",
              "      display: none;\n",
              "      fill: #1967D2;\n",
              "      height: 32px;\n",
              "      padding: 0 0 0 0;\n",
              "      width: 32px;\n",
              "    }\n",
              "\n",
              "    .colab-df-convert:hover {\n",
              "      background-color: #E2EBFA;\n",
              "      box-shadow: 0px 1px 2px rgba(60, 64, 67, 0.3), 0px 1px 3px 1px rgba(60, 64, 67, 0.15);\n",
              "      fill: #174EA6;\n",
              "    }\n",
              "\n",
              "    .colab-df-buttons div {\n",
              "      margin-bottom: 4px;\n",
              "    }\n",
              "\n",
              "    [theme=dark] .colab-df-convert {\n",
              "      background-color: #3B4455;\n",
              "      fill: #D2E3FC;\n",
              "    }\n",
              "\n",
              "    [theme=dark] .colab-df-convert:hover {\n",
              "      background-color: #434B5C;\n",
              "      box-shadow: 0px 1px 3px 1px rgba(0, 0, 0, 0.15);\n",
              "      filter: drop-shadow(0px 1px 2px rgba(0, 0, 0, 0.3));\n",
              "      fill: #FFFFFF;\n",
              "    }\n",
              "  </style>\n",
              "\n",
              "    <script>\n",
              "      const buttonEl =\n",
              "        document.querySelector('#df-88babb1a-aa26-4b1e-a09c-fcab4acb68c5 button.colab-df-convert');\n",
              "      buttonEl.style.display =\n",
              "        google.colab.kernel.accessAllowed ? 'block' : 'none';\n",
              "\n",
              "      async function convertToInteractive(key) {\n",
              "        const element = document.querySelector('#df-88babb1a-aa26-4b1e-a09c-fcab4acb68c5');\n",
              "        const dataTable =\n",
              "          await google.colab.kernel.invokeFunction('convertToInteractive',\n",
              "                                                    [key], {});\n",
              "        if (!dataTable) return;\n",
              "\n",
              "        const docLinkHtml = 'Like what you see? Visit the ' +\n",
              "          '<a target=\"_blank\" href=https://colab.research.google.com/notebooks/data_table.ipynb>data table notebook</a>'\n",
              "          + ' to learn more about interactive tables.';\n",
              "        element.innerHTML = '';\n",
              "        dataTable['output_type'] = 'display_data';\n",
              "        await google.colab.output.renderOutput(dataTable, element);\n",
              "        const docLink = document.createElement('div');\n",
              "        docLink.innerHTML = docLinkHtml;\n",
              "        element.appendChild(docLink);\n",
              "      }\n",
              "    </script>\n",
              "  </div>\n",
              "\n",
              "\n",
              "<div id=\"df-1ef93d3d-f707-4c38-8da9-c86650484979\">\n",
              "  <button class=\"colab-df-quickchart\" onclick=\"quickchart('df-1ef93d3d-f707-4c38-8da9-c86650484979')\"\n",
              "            title=\"Suggest charts\"\n",
              "            style=\"display:none;\">\n",
              "\n",
              "<svg xmlns=\"http://www.w3.org/2000/svg\" height=\"24px\"viewBox=\"0 0 24 24\"\n",
              "     width=\"24px\">\n",
              "    <g>\n",
              "        <path d=\"M19 3H5c-1.1 0-2 .9-2 2v14c0 1.1.9 2 2 2h14c1.1 0 2-.9 2-2V5c0-1.1-.9-2-2-2zM9 17H7v-7h2v7zm4 0h-2V7h2v10zm4 0h-2v-4h2v4z\"/>\n",
              "    </g>\n",
              "</svg>\n",
              "  </button>\n",
              "\n",
              "<style>\n",
              "  .colab-df-quickchart {\n",
              "      --bg-color: #E8F0FE;\n",
              "      --fill-color: #1967D2;\n",
              "      --hover-bg-color: #E2EBFA;\n",
              "      --hover-fill-color: #174EA6;\n",
              "      --disabled-fill-color: #AAA;\n",
              "      --disabled-bg-color: #DDD;\n",
              "  }\n",
              "\n",
              "  [theme=dark] .colab-df-quickchart {\n",
              "      --bg-color: #3B4455;\n",
              "      --fill-color: #D2E3FC;\n",
              "      --hover-bg-color: #434B5C;\n",
              "      --hover-fill-color: #FFFFFF;\n",
              "      --disabled-bg-color: #3B4455;\n",
              "      --disabled-fill-color: #666;\n",
              "  }\n",
              "\n",
              "  .colab-df-quickchart {\n",
              "    background-color: var(--bg-color);\n",
              "    border: none;\n",
              "    border-radius: 50%;\n",
              "    cursor: pointer;\n",
              "    display: none;\n",
              "    fill: var(--fill-color);\n",
              "    height: 32px;\n",
              "    padding: 0;\n",
              "    width: 32px;\n",
              "  }\n",
              "\n",
              "  .colab-df-quickchart:hover {\n",
              "    background-color: var(--hover-bg-color);\n",
              "    box-shadow: 0 1px 2px rgba(60, 64, 67, 0.3), 0 1px 3px 1px rgba(60, 64, 67, 0.15);\n",
              "    fill: var(--button-hover-fill-color);\n",
              "  }\n",
              "\n",
              "  .colab-df-quickchart-complete:disabled,\n",
              "  .colab-df-quickchart-complete:disabled:hover {\n",
              "    background-color: var(--disabled-bg-color);\n",
              "    fill: var(--disabled-fill-color);\n",
              "    box-shadow: none;\n",
              "  }\n",
              "\n",
              "  .colab-df-spinner {\n",
              "    border: 2px solid var(--fill-color);\n",
              "    border-color: transparent;\n",
              "    border-bottom-color: var(--fill-color);\n",
              "    animation:\n",
              "      spin 1s steps(1) infinite;\n",
              "  }\n",
              "\n",
              "  @keyframes spin {\n",
              "    0% {\n",
              "      border-color: transparent;\n",
              "      border-bottom-color: var(--fill-color);\n",
              "      border-left-color: var(--fill-color);\n",
              "    }\n",
              "    20% {\n",
              "      border-color: transparent;\n",
              "      border-left-color: var(--fill-color);\n",
              "      border-top-color: var(--fill-color);\n",
              "    }\n",
              "    30% {\n",
              "      border-color: transparent;\n",
              "      border-left-color: var(--fill-color);\n",
              "      border-top-color: var(--fill-color);\n",
              "      border-right-color: var(--fill-color);\n",
              "    }\n",
              "    40% {\n",
              "      border-color: transparent;\n",
              "      border-right-color: var(--fill-color);\n",
              "      border-top-color: var(--fill-color);\n",
              "    }\n",
              "    60% {\n",
              "      border-color: transparent;\n",
              "      border-right-color: var(--fill-color);\n",
              "    }\n",
              "    80% {\n",
              "      border-color: transparent;\n",
              "      border-right-color: var(--fill-color);\n",
              "      border-bottom-color: var(--fill-color);\n",
              "    }\n",
              "    90% {\n",
              "      border-color: transparent;\n",
              "      border-bottom-color: var(--fill-color);\n",
              "    }\n",
              "  }\n",
              "</style>\n",
              "\n",
              "  <script>\n",
              "    async function quickchart(key) {\n",
              "      const quickchartButtonEl =\n",
              "        document.querySelector('#' + key + ' button');\n",
              "      quickchartButtonEl.disabled = true;  // To prevent multiple clicks.\n",
              "      quickchartButtonEl.classList.add('colab-df-spinner');\n",
              "      try {\n",
              "        const charts = await google.colab.kernel.invokeFunction(\n",
              "            'suggestCharts', [key], {});\n",
              "      } catch (error) {\n",
              "        console.error('Error during call to suggestCharts:', error);\n",
              "      }\n",
              "      quickchartButtonEl.classList.remove('colab-df-spinner');\n",
              "      quickchartButtonEl.classList.add('colab-df-quickchart-complete');\n",
              "    }\n",
              "    (() => {\n",
              "      let quickchartButtonEl =\n",
              "        document.querySelector('#df-1ef93d3d-f707-4c38-8da9-c86650484979 button');\n",
              "      quickchartButtonEl.style.display =\n",
              "        google.colab.kernel.accessAllowed ? 'block' : 'none';\n",
              "    })();\n",
              "  </script>\n",
              "</div>\n",
              "\n",
              "    </div>\n",
              "  </div>\n"
            ],
            "text/plain": [
              "   Transaction_Amount  Account_Balance  Avg_Transaction_Amount_7d  \\\n",
              "0           -0.915336        -0.103862                  -0.535502   \n",
              "1           -0.885426        -0.044091                  -0.346142   \n",
              "2           -0.567258        -0.075059                  -0.185482   \n",
              "3           -0.911197        -0.060886                   0.120452   \n",
              "4           -0.871496         0.355046                   0.083189   \n",
              "\n",
              "   Transaction_Distance  Daily_Transaction_Count      Year     Month  \\\n",
              "0             -0.076594                -0.128896 -0.851492 -0.138235   \n",
              "1              0.125152                 0.263714 -0.894981 -0.013943   \n",
              "2             -0.368736                -0.333844 -0.713119  0.223762   \n",
              "3              0.138476                 0.269871 -0.971599 -0.512396   \n",
              "4              0.291527                -0.441050 -0.857925 -0.080708   \n",
              "\n",
              "        Day      Hour    Minute    Second  Transaction_Type  Device_Type  \\\n",
              "0  0.081686  0.243008  0.028346 -0.947073          0.999996     0.934248   \n",
              "1 -0.227179 -0.248944  0.478384 -0.958187          0.999987     0.985405   \n",
              "2  0.463397  0.153253  0.370367 -0.677918          0.999953     0.830057   \n",
              "3  0.442811  0.240928 -0.490170 -0.915310          0.999962     0.972576   \n",
              "4  0.277216  0.308595  0.484547 -0.895405          0.999975     0.958383   \n",
              "\n",
              "   IP_Address_Flag  Previous_Fraudulent_Activity  Failed_Transaction_Count_7d  \\\n",
              "0         0.653120                      0.705276                     0.999998   \n",
              "1         0.266731                     -0.285920                     0.999995   \n",
              "2         0.014997                     -0.301738                     0.999931   \n",
              "3         0.200269                      0.221732                     0.999967   \n",
              "4        -0.455974                     -0.474394                     0.999992   \n",
              "\n",
              "   Card_Type  Authentication_Method  Is_Weekend  \n",
              "0   0.999992               0.999999    0.561675  \n",
              "1   0.999986               0.999993    0.077974  \n",
              "2   0.999945               0.999940    0.584090  \n",
              "3   0.999945               0.999966    0.856017  \n",
              "4   0.999994               0.999976   -0.088213  "
            ]
          },
          "execution_count": 10,
          "metadata": {},
          "output_type": "execute_result"
        }
      ],
      "source": [
        "# Convert generated synthetic samples (normalized) to a DataFrame\n",
        "generated_samples_df = pd.DataFrame(generated_samples, columns=fraud_data_scaled.columns)\n",
        "\n",
        "# View first 5 rows\n",
        "generated_samples_df.head()"
      ]
    },
    {
      "cell_type": "code",
      "execution_count": null,
      "metadata": {
        "id": "17FVU6wcw3SY"
      },
      "outputs": [],
      "source": [
        "generated_samples_df = pd.DataFrame(generated_samples, columns=fraud_data_scaled.columns)\n",
        "\n",
        "# Separate continuous & categorical parts\n",
        "gen_cont = generated_samples_df[continuous_columns].values\n",
        "gen_cat = generated_samples_df.drop(columns=continuous_columns).reset_index(drop=True)\n",
        "\n",
        "# Inverse transform continuous columns\n",
        "gen_cont_rescaled = scaler.inverse_transform(gen_cont)\n",
        "gen_cont_df = pd.DataFrame(gen_cont_rescaled, columns=continuous_columns)\n",
        "\n",
        "# Combine continuous + categorical\n",
        "synthetic_fraud_wgan = pd.concat([gen_cont_df, gen_cat], axis=1)\n",
        "synthetic_fraud_wgan['Fraud_Label'] = 1"
      ]
    },
    {
      "cell_type": "code",
      "execution_count": null,
      "metadata": {
        "colab": {
          "base_uri": "https://localhost:8080/"
        },
        "id": "gQ4wzFDvw9DW",
        "outputId": "9aba549f-5cfa-41c7-afef-e0eaf89acd3f"
      },
      "outputs": [
        {
          "name": "stdout",
          "output_type": "stream",
          "text": [
            "✅ 17,000 synthetic fraud samples generated using WGAN and saved as balanced_WGAN.csv\n"
          ]
        }
      ],
      "source": [
        "augmented_wgan_data = pd.concat([df, synthetic_fraud_wgan], ignore_index=True)\n",
        "augmented_wgan_data.to_csv('/content/balanced_WGAN.csv', index=False)\n",
        "print(\"✅ 17,000 synthetic fraud samples generated using WGAN and saved as balanced_WGAN.csv\")"
      ]
    },
    {
      "cell_type": "code",
      "execution_count": null,
      "metadata": {
        "colab": {
          "base_uri": "https://localhost:8080/",
          "height": 17
        },
        "id": "CA4xRf_mxESC",
        "outputId": "4b67e3da-a939-49a1-ebf7-ef3cfbcbae29"
      },
      "outputs": [
        {
          "data": {
            "application/javascript": "\n    async function download(id, filename, size) {\n      if (!google.colab.kernel.accessAllowed) {\n        return;\n      }\n      const div = document.createElement('div');\n      const label = document.createElement('label');\n      label.textContent = `Downloading \"${filename}\": `;\n      div.appendChild(label);\n      const progress = document.createElement('progress');\n      progress.max = size;\n      div.appendChild(progress);\n      document.body.appendChild(div);\n\n      const buffers = [];\n      let downloaded = 0;\n\n      const channel = await google.colab.kernel.comms.open(id);\n      // Send a message to notify the kernel that we're ready.\n      channel.send({})\n\n      for await (const message of channel.messages) {\n        // Send a message to notify the kernel that we're ready.\n        channel.send({})\n        if (message.buffers) {\n          for (const buffer of message.buffers) {\n            buffers.push(buffer);\n            downloaded += buffer.byteLength;\n            progress.value = downloaded;\n          }\n        }\n      }\n      const blob = new Blob(buffers, {type: 'application/binary'});\n      const a = document.createElement('a');\n      a.href = window.URL.createObjectURL(blob);\n      a.download = filename;\n      div.appendChild(a);\n      a.click();\n      div.remove();\n    }\n  ",
            "text/plain": [
              "<IPython.core.display.Javascript object>"
            ]
          },
          "metadata": {},
          "output_type": "display_data"
        },
        {
          "data": {
            "application/javascript": "download(\"download_f04f7f2f-0404-475f-a40b-1dd202b8fb61\", \"balanced_WGAN.csv\", 10862895)",
            "text/plain": [
              "<IPython.core.display.Javascript object>"
            ]
          },
          "metadata": {},
          "output_type": "display_data"
        }
      ],
      "source": [
        "from google.colab import files\n",
        "files.download('/content/balanced_WGAN.csv')"
      ]
    },
    {
      "cell_type": "code",
      "execution_count": null,
      "metadata": {
        "colab": {
          "base_uri": "https://localhost:8080/"
        },
        "id": "P_BBRgDcxSFd",
        "outputId": "322c87b3-9da6-4346-8d07-966de3d76ecf"
      },
      "outputs": [
        {
          "name": "stdout",
          "output_type": "stream",
          "text": [
            "<class 'pandas.core.frame.DataFrame'>\n",
            "RangeIndex: 50000 entries, 0 to 49999\n",
            "Data columns (total 20 columns):\n",
            " #   Column                        Non-Null Count  Dtype  \n",
            "---  ------                        --------------  -----  \n",
            " 0   Transaction_Amount            50000 non-null  float64\n",
            " 1   Transaction_Type              50000 non-null  int64  \n",
            " 2   Account_Balance               50000 non-null  float64\n",
            " 3   Device_Type                   50000 non-null  int64  \n",
            " 4   IP_Address_Flag               50000 non-null  int64  \n",
            " 5   Previous_Fraudulent_Activity  50000 non-null  int64  \n",
            " 6   Daily_Transaction_Count       50000 non-null  int64  \n",
            " 7   Avg_Transaction_Amount_7d     50000 non-null  float64\n",
            " 8   Failed_Transaction_Count_7d   50000 non-null  int64  \n",
            " 9   Card_Type                     50000 non-null  int64  \n",
            " 10  Transaction_Distance          50000 non-null  float64\n",
            " 11  Authentication_Method         50000 non-null  int64  \n",
            " 12  Is_Weekend                    50000 non-null  int64  \n",
            " 13  Fraud_Label                   50000 non-null  int64  \n",
            " 14  Year                          50000 non-null  int64  \n",
            " 15  Month                         50000 non-null  int64  \n",
            " 16  Day                           50000 non-null  int64  \n",
            " 17  Hour                          50000 non-null  int64  \n",
            " 18  Minute                        50000 non-null  int64  \n",
            " 19  Second                        50000 non-null  int64  \n",
            "dtypes: float64(4), int64(16)\n",
            "memory usage: 7.6 MB\n"
          ]
        }
      ],
      "source": [
        "df.info()"
      ]
    },
    {
      "cell_type": "code",
      "execution_count": null,
      "metadata": {
        "colab": {
          "base_uri": "https://localhost:8080/"
        },
        "id": "Ezuh4WhKxyUB",
        "outputId": "eaa6eb46-c805-48db-a027-0fe7f8dcd7b7"
      },
      "outputs": [
        {
          "name": "stdout",
          "output_type": "stream",
          "text": [
            "Fraud_Label\n",
            "0    33933\n",
            "1    16067\n",
            "Name: count, dtype: int64\n"
          ]
        }
      ],
      "source": [
        "print(df['Fraud_Label'].value_counts())\n"
      ]
    }
  ],
  "metadata": {
    "colab": {
      "provenance": []
    },
    "kernelspec": {
      "display_name": "Python 3",
      "name": "python3"
    },
    "language_info": {
      "name": "python"
    }
  },
  "nbformat": 4,
  "nbformat_minor": 0
}
