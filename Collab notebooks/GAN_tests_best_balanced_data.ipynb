{
  "cells": [
    {
      "cell_type": "code",
      "execution_count": null,
      "metadata": {
        "colab": {
          "base_uri": "https://localhost:8080/"
        },
        "id": "PhG9LUjpRV9t",
        "outputId": "68e4cf62-e1e5-46c0-99e7-c85c4b11314a"
      },
      "outputs": [
        {
          "name": "stdout",
          "output_type": "stream",
          "text": [
            "Kolmogorov-Smirnov Test Results (Numerical Features):\n",
            "                           KS Statistic       P-value\n",
            "Transaction_Amount             0.028799  4.603090e-21\n",
            "Account_Balance                0.036396  2.170258e-33\n",
            "Transaction_Distance           0.016279  5.071147e-07\n",
            "Avg_Transaction_Amount_7d      0.022539  4.562682e-13\n",
            "\n",
            "Chi-Square Test Results (Categorical Features):\n",
            "                              Chi-Square Statistic   P-value\n",
            "Transaction_Type                         23.303916  0.005549\n",
            "Device_Type                               7.644014  0.105524\n",
            "Previous_Fraudulent_Activity              0.354730  0.551448\n",
            "Card_Type                                13.304525  0.149304\n",
            "Authentication_Method                     6.652266  0.673272\n",
            "Is_Weekend                                0.117864  0.731363\n",
            "Fraud_Label                               0.133040  0.715300\n",
            "IP_Address_Flag                           3.282657  0.070015\n"
          ]
        }
      ],
      "source": [
        "import pandas as pd\n",
        "import numpy as np\n",
        "from scipy.stats import ks_2samp, chi2_contingency\n",
        "\n",
        "\n",
        "real_df = pd.read_csv(\"/content/drive/MyDrive/Colab Notebooks/processed_fraud_data.csv\")  # Real dataset\n",
        "ctgan_df = pd.read_csv(\"/content/drive/MyDrive/Colab Notebooks/ctgan_t2_balanced.csv\")  # Synthetic dataset (CTGAN)\n",
        "\n",
        "numerical_cols = [\"Transaction_Amount\", \"Account_Balance\", \"Transaction_Distance\", \"Avg_Transaction_Amount_7d\"]\n",
        "categorical_cols = [\"Transaction_Type\", \"Device_Type\", \"Previous_Fraudulent_Activity\",\n",
        "                    \"Card_Type\", \"Authentication_Method\", \"Is_Weekend\", \"Fraud_Label\", \"IP_Address_Flag\"]\n",
        "\n",
        "\n",
        "ks_results = {}\n",
        "for col in numerical_cols:\n",
        "    ks_stat, ks_p = ks_2samp(real_df[col], ctgan_df[col])\n",
        "    ks_results[col] = {\"KS Statistic\": ks_stat, \"P-value\": ks_p}\n",
        "\n",
        "chi_results = {}\n",
        "for col in categorical_cols:\n",
        "    contingency_table = pd.crosstab(real_df[col], ctgan_df[col])  \n",
        "    chi_stat, chi_p, _, _ = chi2_contingency(contingency_table)\n",
        "    chi_results[col] = {\"Chi-Square Statistic\": chi_stat, \"P-value\": chi_p}\n",
        "\n",
        "\n",
        "ks_results_df = pd.DataFrame(ks_results).T\n",
        "chi_results_df = pd.DataFrame(chi_results).T\n",
        "\n",
        "\n",
        "print(\"Kolmogorov-Smirnov Test Results (Numerical Features):\")\n",
        "print(ks_results_df)\n",
        "\n",
        "print(\"\\nChi-Square Test Results (Categorical Features):\")\n",
        "print(chi_results_df)\n"
      ]
    },
    {
      "cell_type": "code",
      "execution_count": null,
      "metadata": {
        "colab": {
          "base_uri": "https://localhost:8080/"
        },
        "id": "cWSmh-p0SbUe",
        "outputId": "8cabf1f1-a5b4-49a2-b0bb-450b5a8b44e9"
      },
      "outputs": [
        {
          "name": "stdout",
          "output_type": "stream",
          "text": [
            "Kolmogorov-Smirnov Test Results (Numerical Features):\n",
            "                           KS Statistic       P-value\n",
            "Transaction_Amount             0.051474  2.257072e-66\n",
            "Account_Balance                0.049030  2.948182e-60\n",
            "Transaction_Distance           0.046246  1.185865e-53\n",
            "Avg_Transaction_Amount_7d      0.043167  8.494633e-47\n",
            "\n",
            "Chi-Square Test Results (Categorical Features):\n",
            "                              Chi-Square Statistic  P-value\n",
            "Transaction_Type                     150000.000000      0.0\n",
            "Device_Type                          100000.000000      0.0\n",
            "Previous_Fraudulent_Activity          49988.728894      0.0\n",
            "Card_Type                            150000.000000      0.0\n",
            "Authentication_Method                150000.000000      0.0\n",
            "Is_Weekend                            49995.234938      0.0\n",
            "Fraud_Label                           49995.414645      0.0\n",
            "IP_Address_Flag                       49979.029027      0.0\n"
          ]
        }
      ],
      "source": [
        "import pandas as pd\n",
        "import numpy as np\n",
        "from scipy.stats import ks_2samp, chi2_contingency\n",
        "\n",
        "\n",
        "real_df = pd.read_csv(\"/content/drive/MyDrive/Colab Notebooks/processed_fraud_data.csv\")  # Real dataset\n",
        "wgan_df = pd.read_csv(\"/content/drive/MyDrive/Colab Notebooks/balanced_WGAN.csv\")  # Replace with actual WGAN dataset path\n",
        "\n",
        "\n",
        "numerical_cols = [\"Transaction_Amount\", \"Account_Balance\", \"Transaction_Distance\", \"Avg_Transaction_Amount_7d\"]\n",
        "categorical_cols = [\"Transaction_Type\", \"Device_Type\", \"Previous_Fraudulent_Activity\",\n",
        "                    \"Card_Type\", \"Authentication_Method\", \"Is_Weekend\", \"Fraud_Label\", \"IP_Address_Flag\"]\n",
        "\n",
        "ks_results = {}\n",
        "for col in numerical_cols:\n",
        "    ks_stat, ks_p = ks_2samp(real_df[col], wgan_df[col])\n",
        "    ks_results[col] = {\"KS Statistic\": ks_stat, \"P-value\": ks_p}\n",
        "\n",
        "\n",
        "chi_results = {}\n",
        "for col in categorical_cols:\n",
        "    contingency_table = pd.crosstab(real_df[col], wgan_df[col])  \n",
        "    chi_stat, chi_p, _, _ = chi2_contingency(contingency_table)\n",
        "    chi_results[col] = {\"Chi-Square Statistic\": chi_stat, \"P-value\": chi_p}\n",
        "\n",
        "\n",
        "ks_results_df = pd.DataFrame(ks_results).T\n",
        "chi_results_df = pd.DataFrame(chi_results).T\n",
        "\n",
        "\n",
        "print(\"Kolmogorov-Smirnov Test Results (Numerical Features):\")\n",
        "print(ks_results_df)\n",
        "\n",
        "print(\"\\nChi-Square Test Results (Categorical Features):\")\n",
        "print(chi_results_df)\n"
      ]
    },
    {
      "cell_type": "code",
      "execution_count": null,
      "metadata": {
        "colab": {
          "base_uri": "https://localhost:8080/"
        },
        "id": "MX7-rBcnTBvP",
        "outputId": "07484b90-deb0-4762-984f-84a8c5755f86"
      },
      "outputs": [
        {
          "name": "stdout",
          "output_type": "stream",
          "text": [
            "\n",
            "Kolmogorov-Smirnov Test Results (Numerical Features):\n",
            "                           KS Statistic  P-value\n",
            "Transaction_Amount             0.145272      0.0\n",
            "Account_Balance                0.145288      0.0\n",
            "Transaction_Distance           0.122358      0.0\n",
            "Avg_Transaction_Amount_7d      0.145290      0.0\n",
            "\n",
            "Chi-Square Test Results (Categorical Features):\n",
            "                              Chi-Square Statistic  P-value\n",
            "Transaction_Type                      14100.186649      0.0\n",
            "Device_Type                            4132.847995      0.0\n",
            "Previous_Fraudulent_Activity           2984.646091      0.0\n",
            "Card_Type                             14854.273488      0.0\n",
            "Authentication_Method                 13076.595921      0.0\n",
            "Is_Weekend                             3945.355682      0.0\n",
            "Fraud_Label                           28392.966378      0.0\n",
            "IP_Address_Flag                        6039.240962      0.0\n"
          ]
        }
      ],
      "source": [
        "import pandas as pd\n",
        "import scipy.stats as stats\n",
        "from scipy.stats import ks_2samp, chi2_contingency\n",
        "\n",
        "\n",
        "real_data = pd.read_csv('/content/drive/MyDrive/Colab Notebooks/processed_fraud_data.csv')  # Replace with actual file path\n",
        "sdggan_data = pd.read_csv('/content/drive/MyDrive/Colab Notebooks/final_data.csv')  # Replace with actual file path\n",
        "\n",
        "numerical_cols = ['Transaction_Amount', 'Account_Balance', 'Transaction_Distance', 'Avg_Transaction_Amount_7d']\n",
        "categorical_cols = ['Transaction_Type', 'Device_Type', 'Previous_Fraudulent_Activity',\n",
        "                    'Card_Type', 'Authentication_Method', 'Is_Weekend', 'Fraud_Label', 'IP_Address_Flag']\n",
        "\n",
        "\n",
        "ks_results = {}\n",
        "for col in numerical_cols:\n",
        "    ks_stat, ks_pvalue = ks_2samp(real_data[col], sdggan_data[col])\n",
        "    ks_results[col] = {'KS Statistic': ks_stat, 'P-value': ks_pvalue}\n",
        "\n",
        "\n",
        "ks_df = pd.DataFrame(ks_results).T\n",
        "print(\"\\nKolmogorov-Smirnov Test Results (Numerical Features):\")\n",
        "print(ks_df)\n",
        "\n",
        "\n",
        "chi_results = {}\n",
        "for col in categorical_cols:\n",
        "    real_counts = real_data[col].value_counts().sort_index()\n",
        "    sdggan_counts = sdggan_data[col].value_counts().sort_index()\n",
        "\n",
        "    \n",
        "    real_counts, sdggan_counts = real_counts.align(sdggan_counts, fill_value=0)\n",
        "\n",
        "    \n",
        "    chi_stat, chi_pvalue, _, _ = chi2_contingency([real_counts, sdggan_counts])\n",
        "    chi_results[col] = {'Chi-Square Statistic': chi_stat, 'P-value': chi_pvalue}\n",
        "\n",
        "\n",
        "chi_df = pd.DataFrame(chi_results).T\n",
        "print(\"\\nChi-Square Test Results (Categorical Features):\")\n",
        "print(chi_df)\n",
        "\n"
      ]
    }
  ],
  "metadata": {
    "colab": {
      "provenance": []
    },
    "kernelspec": {
      "display_name": "Python 3",
      "name": "python3"
    },
    "language_info": {
      "name": "python"
    }
  },
  "nbformat": 4,
  "nbformat_minor": 0
}
